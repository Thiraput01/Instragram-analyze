{
 "cells": [
  {
   "cell_type": "code",
   "execution_count": 33,
   "metadata": {},
   "outputs": [],
   "source": [
    "import pandas as pd\n",
    "import numpy as np\n",
    "import matplotlib.pyplot as plt\n",
    "import seaborn as sns"
   ]
  },
  {
   "cell_type": "code",
   "execution_count": 53,
   "metadata": {},
   "outputs": [],
   "source": [
    "df = pd.read_csv('data/df_for_nlp.csv')"
   ]
  },
  {
   "cell_type": "code",
   "execution_count": 54,
   "metadata": {},
   "outputs": [
    {
     "data": {
      "text/html": [
       "<div>\n",
       "<style scoped>\n",
       "    .dataframe tbody tr th:only-of-type {\n",
       "        vertical-align: middle;\n",
       "    }\n",
       "\n",
       "    .dataframe tbody tr th {\n",
       "        vertical-align: top;\n",
       "    }\n",
       "\n",
       "    .dataframe thead th {\n",
       "        text-align: right;\n",
       "    }\n",
       "</style>\n",
       "<table border=\"1\" class=\"dataframe\">\n",
       "  <thead>\n",
       "    <tr style=\"text-align: right;\">\n",
       "      <th></th>\n",
       "      <th>Caption</th>\n",
       "      <th>Hashtags keywords</th>\n",
       "      <th>Impressions</th>\n",
       "    </tr>\n",
       "  </thead>\n",
       "  <tbody>\n",
       "    <tr>\n",
       "      <th>0</th>\n",
       "      <td>here are some of the most important data visua...</td>\n",
       "      <td>finance  money  business  investing  investme...</td>\n",
       "      <td>3920</td>\n",
       "    </tr>\n",
       "    <tr>\n",
       "      <th>1</th>\n",
       "      <td>here are some of the best data science project...</td>\n",
       "      <td>healthcare  health  covid  data  datascience ...</td>\n",
       "      <td>5394</td>\n",
       "    </tr>\n",
       "    <tr>\n",
       "      <th>2</th>\n",
       "      <td>learn how to train a machine learning model an...</td>\n",
       "      <td>data  datascience  dataanalysis  dataanalytic...</td>\n",
       "      <td>4021</td>\n",
       "    </tr>\n",
       "    <tr>\n",
       "      <th>3</th>\n",
       "      <td>heres how you can write a python program to de...</td>\n",
       "      <td>python  pythonprogramming  pythonprojects  py...</td>\n",
       "      <td>4528</td>\n",
       "    </tr>\n",
       "    <tr>\n",
       "      <th>4</th>\n",
       "      <td>plotting annotations while visualizing your da...</td>\n",
       "      <td>datavisualization  datascience  data  dataana...</td>\n",
       "      <td>2518</td>\n",
       "    </tr>\n",
       "  </tbody>\n",
       "</table>\n",
       "</div>"
      ],
      "text/plain": [
       "                                             Caption  \\\n",
       "0  here are some of the most important data visua...   \n",
       "1  here are some of the best data science project...   \n",
       "2  learn how to train a machine learning model an...   \n",
       "3  heres how you can write a python program to de...   \n",
       "4  plotting annotations while visualizing your da...   \n",
       "\n",
       "                                   Hashtags keywords  Impressions  \n",
       "0   finance  money  business  investing  investme...         3920  \n",
       "1   healthcare  health  covid  data  datascience ...         5394  \n",
       "2   data  datascience  dataanalysis  dataanalytic...         4021  \n",
       "3   python  pythonprogramming  pythonprojects  py...         4528  \n",
       "4   datavisualization  datascience  data  dataana...         2518  "
      ]
     },
     "execution_count": 54,
     "metadata": {},
     "output_type": "execute_result"
    }
   ],
   "source": [
    "df.head()"
   ]
  },
  {
   "cell_type": "code",
   "execution_count": 41,
   "metadata": {},
   "outputs": [
    {
     "data": {
      "text/html": [
       "<div>\n",
       "<style scoped>\n",
       "    .dataframe tbody tr th:only-of-type {\n",
       "        vertical-align: middle;\n",
       "    }\n",
       "\n",
       "    .dataframe tbody tr th {\n",
       "        vertical-align: top;\n",
       "    }\n",
       "\n",
       "    .dataframe thead th {\n",
       "        text-align: right;\n",
       "    }\n",
       "</style>\n",
       "<table border=\"1\" class=\"dataframe\">\n",
       "  <thead>\n",
       "    <tr style=\"text-align: right;\">\n",
       "      <th></th>\n",
       "      <th>Caption</th>\n",
       "      <th>Hashtags keywords</th>\n",
       "      <th>Impressions</th>\n",
       "      <th>Caption_Keywords</th>\n",
       "    </tr>\n",
       "  </thead>\n",
       "  <tbody>\n",
       "    <tr>\n",
       "      <th>0</th>\n",
       "      <td>here are some of the most important data visua...</td>\n",
       "      <td>finance  money  business  investing  investme...</td>\n",
       "      <td>3920</td>\n",
       "      <td>[here, are, some, of, the, most, important, da...</td>\n",
       "    </tr>\n",
       "    <tr>\n",
       "      <th>1</th>\n",
       "      <td>here are some of the best data science project...</td>\n",
       "      <td>healthcare  health  covid  data  datascience ...</td>\n",
       "      <td>5394</td>\n",
       "      <td>[here, are, some, of, the, best, data, science...</td>\n",
       "    </tr>\n",
       "    <tr>\n",
       "      <th>2</th>\n",
       "      <td>learn how to train a machine learning model an...</td>\n",
       "      <td>data  datascience  dataanalysis  dataanalytic...</td>\n",
       "      <td>4021</td>\n",
       "      <td>[learn, how, to, train, a, machine, learning, ...</td>\n",
       "    </tr>\n",
       "    <tr>\n",
       "      <th>3</th>\n",
       "      <td>heres how you can write a python program to de...</td>\n",
       "      <td>python  pythonprogramming  pythonprojects  py...</td>\n",
       "      <td>4528</td>\n",
       "      <td>[heres, how, you, can, write, a, python, progr...</td>\n",
       "    </tr>\n",
       "    <tr>\n",
       "      <th>4</th>\n",
       "      <td>plotting annotations while visualizing your da...</td>\n",
       "      <td>datavisualization  datascience  data  dataana...</td>\n",
       "      <td>2518</td>\n",
       "      <td>[plotting, annotations, while, visualizing, yo...</td>\n",
       "    </tr>\n",
       "  </tbody>\n",
       "</table>\n",
       "</div>"
      ],
      "text/plain": [
       "                                             Caption  \\\n",
       "0  here are some of the most important data visua...   \n",
       "1  here are some of the best data science project...   \n",
       "2  learn how to train a machine learning model an...   \n",
       "3  heres how you can write a python program to de...   \n",
       "4  plotting annotations while visualizing your da...   \n",
       "\n",
       "                                   Hashtags keywords  Impressions  \\\n",
       "0   finance  money  business  investing  investme...         3920   \n",
       "1   healthcare  health  covid  data  datascience ...         5394   \n",
       "2   data  datascience  dataanalysis  dataanalytic...         4021   \n",
       "3   python  pythonprogramming  pythonprojects  py...         4528   \n",
       "4   datavisualization  datascience  data  dataana...         2518   \n",
       "\n",
       "                                    Caption_Keywords  \n",
       "0  [here, are, some, of, the, most, important, da...  \n",
       "1  [here, are, some, of, the, best, data, science...  \n",
       "2  [learn, how, to, train, a, machine, learning, ...  \n",
       "3  [heres, how, you, can, write, a, python, progr...  \n",
       "4  [plotting, annotations, while, visualizing, yo...  "
      ]
     },
     "execution_count": 41,
     "metadata": {},
     "output_type": "execute_result"
    }
   ],
   "source": [
    "# Step 1: Tokenize captions into individual words\n",
    "df['Caption_Keywords'] = df['Caption'].str.lower().str.split()\n",
    "df.head()"
   ]
  },
  {
   "cell_type": "code",
   "execution_count": null,
   "metadata": {},
   "outputs": [
    {
     "data": {
      "text/plain": [
       "[('here', 3920),\n",
       " ('are', 3920),\n",
       " ('some', 3920),\n",
       " ('of', 3920),\n",
       " ('the', 3920),\n",
       " ('most', 3920),\n",
       " ('important', 3920),\n",
       " ('data', 3920),\n",
       " ('visualizations', 3920),\n",
       " ('that', 3920)]"
      ]
     },
     "execution_count": 43,
     "metadata": {},
     "output_type": "execute_result"
    }
   ],
   "source": [
    "words_impressions = [(word, impressions) for keywords, impressions in zip(df['Caption_Keywords'], df['Impressions']) for word in keywords]\n",
    "words_impressions[:10]"
   ]
  },
  {
   "cell_type": "code",
   "execution_count": 44,
   "metadata": {},
   "outputs": [
    {
     "data": {
      "text/html": [
       "<div>\n",
       "<style scoped>\n",
       "    .dataframe tbody tr th:only-of-type {\n",
       "        vertical-align: middle;\n",
       "    }\n",
       "\n",
       "    .dataframe tbody tr th {\n",
       "        vertical-align: top;\n",
       "    }\n",
       "\n",
       "    .dataframe thead th {\n",
       "        text-align: right;\n",
       "    }\n",
       "</style>\n",
       "<table border=\"1\" class=\"dataframe\">\n",
       "  <thead>\n",
       "    <tr style=\"text-align: right;\">\n",
       "      <th></th>\n",
       "      <th>Keyword</th>\n",
       "      <th>mean</th>\n",
       "      <th>count</th>\n",
       "    </tr>\n",
       "  </thead>\n",
       "  <tbody>\n",
       "    <tr>\n",
       "      <th>0</th>\n",
       "      <td>certifications</td>\n",
       "      <td>23197.500000</td>\n",
       "      <td>2</td>\n",
       "    </tr>\n",
       "    <tr>\n",
       "      <th>1</th>\n",
       "      <td>source</td>\n",
       "      <td>19506.333333</td>\n",
       "      <td>3</td>\n",
       "    </tr>\n",
       "    <tr>\n",
       "      <th>2</th>\n",
       "      <td>sql</td>\n",
       "      <td>17713.000000</td>\n",
       "      <td>1</td>\n",
       "    </tr>\n",
       "    <tr>\n",
       "      <th>3</th>\n",
       "      <td>solved</td>\n",
       "      <td>16957.400000</td>\n",
       "      <td>5</td>\n",
       "    </tr>\n",
       "    <tr>\n",
       "      <th>4</th>\n",
       "      <td>code</td>\n",
       "      <td>15576.250000</td>\n",
       "      <td>4</td>\n",
       "    </tr>\n",
       "  </tbody>\n",
       "</table>\n",
       "</div>"
      ],
      "text/plain": [
       "          Keyword          mean  count\n",
       "0  certifications  23197.500000      2\n",
       "1          source  19506.333333      3\n",
       "2             sql  17713.000000      1\n",
       "3          solved  16957.400000      5\n",
       "4            code  15576.250000      4"
      ]
     },
     "execution_count": 44,
     "metadata": {},
     "output_type": "execute_result"
    }
   ],
   "source": [
    "word_impression_df = pd.DataFrame(words_impressions, columns=['Keyword', 'Impression'])\n",
    "keyword_stats = word_impression_df.groupby('Keyword').Impression.agg(['mean', 'count']).sort_values(by='mean', ascending=False).reset_index()\n",
    "\n",
    "keyword_stats.head()"
   ]
  },
  {
   "cell_type": "code",
   "execution_count": 45,
   "metadata": {},
   "outputs": [
    {
     "name": "stderr",
     "output_type": "stream",
     "text": [
      "C:\\Users\\acer\\AppData\\Local\\Temp\\ipykernel_17196\\3632958952.py:3: FutureWarning: \n",
      "\n",
      "Passing `palette` without assigning `hue` is deprecated and will be removed in v0.14.0. Assign the `y` variable to `hue` and set `legend=False` for the same effect.\n",
      "\n",
      "  sns.barplot(x='mean', y='Keyword', data=top_keywords, palette='viridis')\n"
     ]
    },
    {
     "data": {
      "image/png": "[encoded data removed]",
      "text/plain": [
       "<Figure size 1200x600 with 1 Axes>"
      ]
     },
     "metadata": {},
     "output_type": "display_data"
    }
   ],
   "source": [
    "plt.figure(figsize=(12, 6))\n",
    "top_keywords = keyword_stats.head(10)\n",
    "sns.barplot(x='mean', y='Keyword', data=top_keywords, palette='viridis')\n",
    "plt.xlabel('Average Impressions')\n",
    "plt.ylabel('Keyword')\n",
    "plt.title('Top Caption keywords by Average Impressions')\n",
    "plt.show()"
   ]
  },
  {
   "cell_type": "code",
   "execution_count": 46,
   "metadata": {},
   "outputs": [
    {
     "data": {
      "text/html": [
       "<div>\n",
       "<style scoped>\n",
       "    .dataframe tbody tr th:only-of-type {\n",
       "        vertical-align: middle;\n",
       "    }\n",
       "\n",
       "    .dataframe tbody tr th {\n",
       "        vertical-align: top;\n",
       "    }\n",
       "\n",
       "    .dataframe thead th {\n",
       "        text-align: right;\n",
       "    }\n",
       "</style>\n",
       "<table border=\"1\" class=\"dataframe\">\n",
       "  <thead>\n",
       "    <tr style=\"text-align: right;\">\n",
       "      <th></th>\n",
       "      <th>Caption</th>\n",
       "      <th>Hashtags keywords</th>\n",
       "      <th>Impressions</th>\n",
       "      <th>Caption_Keywords</th>\n",
       "      <th>Hashtags_Keywords</th>\n",
       "    </tr>\n",
       "  </thead>\n",
       "  <tbody>\n",
       "    <tr>\n",
       "      <th>0</th>\n",
       "      <td>here are some of the most important data visua...</td>\n",
       "      <td>finance  money  business  investing  investme...</td>\n",
       "      <td>3920</td>\n",
       "      <td>[here, are, some, of, the, most, important, da...</td>\n",
       "      <td>[finance, money, business, investing, investme...</td>\n",
       "    </tr>\n",
       "    <tr>\n",
       "      <th>1</th>\n",
       "      <td>here are some of the best data science project...</td>\n",
       "      <td>healthcare  health  covid  data  datascience ...</td>\n",
       "      <td>5394</td>\n",
       "      <td>[here, are, some, of, the, best, data, science...</td>\n",
       "      <td>[healthcare, health, covid, data, datascience,...</td>\n",
       "    </tr>\n",
       "    <tr>\n",
       "      <th>2</th>\n",
       "      <td>learn how to train a machine learning model an...</td>\n",
       "      <td>data  datascience  dataanalysis  dataanalytic...</td>\n",
       "      <td>4021</td>\n",
       "      <td>[learn, how, to, train, a, machine, learning, ...</td>\n",
       "      <td>[data, datascience, dataanalysis, dataanalytic...</td>\n",
       "    </tr>\n",
       "    <tr>\n",
       "      <th>3</th>\n",
       "      <td>heres how you can write a python program to de...</td>\n",
       "      <td>python  pythonprogramming  pythonprojects  py...</td>\n",
       "      <td>4528</td>\n",
       "      <td>[heres, how, you, can, write, a, python, progr...</td>\n",
       "      <td>[python, pythonprogramming, pythonprojects, py...</td>\n",
       "    </tr>\n",
       "    <tr>\n",
       "      <th>4</th>\n",
       "      <td>plotting annotations while visualizing your da...</td>\n",
       "      <td>datavisualization  datascience  data  dataana...</td>\n",
       "      <td>2518</td>\n",
       "      <td>[plotting, annotations, while, visualizing, yo...</td>\n",
       "      <td>[datavisualization, datascience, data, dataana...</td>\n",
       "    </tr>\n",
       "  </tbody>\n",
       "</table>\n",
       "</div>"
      ],
      "text/plain": [
       "                                             Caption  \\\n",
       "0  here are some of the most important data visua...   \n",
       "1  here are some of the best data science project...   \n",
       "2  learn how to train a machine learning model an...   \n",
       "3  heres how you can write a python program to de...   \n",
       "4  plotting annotations while visualizing your da...   \n",
       "\n",
       "                                   Hashtags keywords  Impressions  \\\n",
       "0   finance  money  business  investing  investme...         3920   \n",
       "1   healthcare  health  covid  data  datascience ...         5394   \n",
       "2   data  datascience  dataanalysis  dataanalytic...         4021   \n",
       "3   python  pythonprogramming  pythonprojects  py...         4528   \n",
       "4   datavisualization  datascience  data  dataana...         2518   \n",
       "\n",
       "                                    Caption_Keywords  \\\n",
       "0  [here, are, some, of, the, most, important, da...   \n",
       "1  [here, are, some, of, the, best, data, science...   \n",
       "2  [learn, how, to, train, a, machine, learning, ...   \n",
       "3  [heres, how, you, can, write, a, python, progr...   \n",
       "4  [plotting, annotations, while, visualizing, yo...   \n",
       "\n",
       "                                   Hashtags_Keywords  \n",
       "0  [finance, money, business, investing, investme...  \n",
       "1  [healthcare, health, covid, data, datascience,...  \n",
       "2  [data, datascience, dataanalysis, dataanalytic...  \n",
       "3  [python, pythonprogramming, pythonprojects, py...  \n",
       "4  [datavisualization, datascience, data, dataana...  "
      ]
     },
     "execution_count": 46,
     "metadata": {},
     "output_type": "execute_result"
    }
   ],
   "source": [
    "# Step 1: Tokenize captions into individual words\n",
    "df['Hashtags_Keywords'] = df['Hashtags keywords'].str.lower().str.split()\n",
    "df.head()"
   ]
  },
  {
   "cell_type": "code",
   "execution_count": 47,
   "metadata": {},
   "outputs": [
    {
     "data": {
      "text/plain": [
       "[('finance', 3920),\n",
       " ('money', 3920),\n",
       " ('business', 3920),\n",
       " ('investing', 3920),\n",
       " ('investment', 3920),\n",
       " ('trading', 3920),\n",
       " ('stockmarket', 3920),\n",
       " ('data', 3920),\n",
       " ('datascience', 3920),\n",
       " ('dataanalysis', 3920)]"
      ]
     },
     "execution_count": 47,
     "metadata": {},
     "output_type": "execute_result"
    }
   ],
   "source": [
    "words_impressions = [(word, impressions) for keywords, impressions in zip(df['Hashtags_Keywords'], df['Impressions']) for word in keywords]\n",
    "words_impressions[:10]"
   ]
  },
  {
   "cell_type": "code",
   "execution_count": 48,
   "metadata": {},
   "outputs": [
    {
     "data": {
      "text/html": [
       "<div>\n",
       "<style scoped>\n",
       "    .dataframe tbody tr th:only-of-type {\n",
       "        vertical-align: middle;\n",
       "    }\n",
       "\n",
       "    .dataframe tbody tr th {\n",
       "        vertical-align: top;\n",
       "    }\n",
       "\n",
       "    .dataframe thead th {\n",
       "        text-align: right;\n",
       "    }\n",
       "</style>\n",
       "<table border=\"1\" class=\"dataframe\">\n",
       "  <thead>\n",
       "    <tr style=\"text-align: right;\">\n",
       "      <th></th>\n",
       "      <th>Keyword</th>\n",
       "      <th>mean</th>\n",
       "      <th>count</th>\n",
       "    </tr>\n",
       "  </thead>\n",
       "  <tbody>\n",
       "    <tr>\n",
       "      <th>0</th>\n",
       "      <td>mysql</td>\n",
       "      <td>17713.0</td>\n",
       "      <td>1</td>\n",
       "    </tr>\n",
       "    <tr>\n",
       "      <th>1</th>\n",
       "      <td>sql</td>\n",
       "      <td>17713.0</td>\n",
       "      <td>1</td>\n",
       "    </tr>\n",
       "    <tr>\n",
       "      <th>2</th>\n",
       "      <td>datascienceeducation</td>\n",
       "      <td>14448.5</td>\n",
       "      <td>6</td>\n",
       "    </tr>\n",
       "    <tr>\n",
       "      <th>3</th>\n",
       "      <td>datasciencejobs</td>\n",
       "      <td>14448.5</td>\n",
       "      <td>6</td>\n",
       "    </tr>\n",
       "    <tr>\n",
       "      <th>4</th>\n",
       "      <td>datasciencetraining</td>\n",
       "      <td>14448.5</td>\n",
       "      <td>6</td>\n",
       "    </tr>\n",
       "  </tbody>\n",
       "</table>\n",
       "</div>"
      ],
      "text/plain": [
       "                Keyword     mean  count\n",
       "0                 mysql  17713.0      1\n",
       "1                   sql  17713.0      1\n",
       "2  datascienceeducation  14448.5      6\n",
       "3       datasciencejobs  14448.5      6\n",
       "4   datasciencetraining  14448.5      6"
      ]
     },
     "execution_count": 48,
     "metadata": {},
     "output_type": "execute_result"
    }
   ],
   "source": [
    "word_impression_df = pd.DataFrame(words_impressions, columns=['Keyword', 'Impression'])\n",
    "keyword_stats = word_impression_df.groupby('Keyword').Impression.agg(['mean', 'count']).sort_values(by='mean', ascending=False).reset_index()\n",
    "\n",
    "keyword_stats.head()"
   ]
  },
  {
   "cell_type": "code",
   "execution_count": 50,
   "metadata": {},
   "outputs": [
    {
     "name": "stderr",
     "output_type": "stream",
     "text": [
      "C:\\Users\\acer\\AppData\\Local\\Temp\\ipykernel_17196\\1571922685.py:3: FutureWarning: \n",
      "\n",
      "Passing `palette` without assigning `hue` is deprecated and will be removed in v0.14.0. Assign the `y` variable to `hue` and set `legend=False` for the same effect.\n",
      "\n",
      "  sns.barplot(x='mean', y='Keyword', data=top_keywords, palette='viridis')\n"
     ]
    },
    {
     "data": {
      "image/png": "[encoded data removed]",
      "text/plain": [
       "<Figure size 1200x600 with 1 Axes>"
      ]
     },
     "metadata": {},
     "output_type": "display_data"
    }
   ],
   "source": [
    "plt.figure(figsize=(12, 6))\n",
    "top_keywords = keyword_stats.head(10)\n",
    "sns.barplot(x='mean', y='Keyword', data=top_keywords, palette='viridis')\n",
    "plt.xlabel('Average Impressions')\n",
    "plt.ylabel('Keyword')\n",
    "plt.title('Top Hashtags keywords by Average Impressions')\n",
    "plt.show()"
   ]
  },
  {
   "cell_type": "code",
   "execution_count": null,
   "metadata": {},
   "outputs": [],
   "source": []
  }
 ],
 "metadata": {
  "kernelspec": {
   "display_name": "Python 3",
   "language": "python",
   "name": "python3"
  },
  "language_info": {
   "codemirror_mode": {
    "name": "ipython",
    "version": 3
   },
   "file_extension": ".py",
   "mimetype": "text/x-python",
   "name": "python",
   "nbconvert_exporter": "python",
   "pygments_lexer": "ipython3",
   "version": "3.11.4"
  }
 },
 "nbformat": 4,
 "nbformat_minor": 2
}
